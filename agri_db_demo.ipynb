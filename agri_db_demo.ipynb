{
 "cells": [
  {
   "cell_type": "code",
   "execution_count": 1,
   "id": "d90ae9b9-e292-4c23-b7fe-eb2b72bb4dab",
   "metadata": {},
   "outputs": [],
   "source": [
    "from modules.access_sql import AccessSql\n",
    "import psycopg2\n",
    "import psycopg2\n",
    "import rasterio\n",
    "import numpy as np\n",
    "from rasterio.plot import show\n",
    "import matplotlib.pyplot as plt\n",
    "from rasterio.io import MemoryFile\n",
    "from modules.interpolate_geotiffs import InterpolateGeotiffs\n",
    "import geopandas as gpd\n",
    "import matplotlib.pyplot as plt\n",
    "\n",
    "\n",
    "db_connector = cursor = None"
   ]
  },
  {
   "cell_type": "code",
   "execution_count": 2,
   "id": "3f939c66-7f3a-49d0-bd36-e5901de5c091",
   "metadata": {
    "tags": []
   },
   "outputs": [],
   "source": [
    "%reload_ext autoreload\n",
    "%autoreload 2"
   ]
  },
  {
   "cell_type": "code",
   "execution_count": 3,
   "id": "88021c5b-aa92-4704-9fed-a4a72d5550f6",
   "metadata": {},
   "outputs": [
    {
     "name": "stdout",
     "output_type": "stream",
     "text": [
      "Number of rows in 'public.field_day': 179760\n",
      "PostgreSQL connection is closed\n"
     ]
    }
   ],
   "source": [
    "#This method prints the amount of rows in the agriRef database field_day table.\n",
    "# The table content was created with colums of name and type:\n",
    "'''CREATE TABLE IF NOT EXISTS public.field_day (\n",
    "                    field_id INTEGER, \n",
    "                    date DATE,\n",
    "                    size INTEGER,\n",
    "                    bbch_phase INTEGER,\n",
    "                    bbch_sim BOOLEAN,\n",
    "                    bsc_data raster CONSTRAINT enforce_srid_bsc CHECK (ST_SRID(bsc_data) = 25832),\n",
    "                    bsc_interp_data raster CONSTRAINT enforce_srid_bsc_interp CHECK (ST_SRID(bsc_interp_data) = 25832),                 \n",
    "                    bsc_valid BOOLEAN,\n",
    "                    coh_data raster CONSTRAINT enforce_srid_coh CHECK (ST_SRID(coh_data) = 25832),\n",
    "                    coh_interp_data raster CONSTRAINT enforce_srid_coh_interp CHECK (ST_SRID(coh_interp_data) = 25832),                     \n",
    "                    coh_valid BOOLEAN,\n",
    "                    s2_data raster CONSTRAINT enforce_srid_s2 CHECK (ST_SRID(s2_data) = 25832), \n",
    "                    s2_interp_data raster CONSTRAINT enforce_srid_s2_interp CHECK (ST_SRID(s2_interp_data) = 25832), \n",
    "                    s2_valid BOOLEAN,\n",
    "                    temp_min INTEGER,\n",
    "                    temp_max INTEGER,\n",
    "                    temp_mean INTEGER,\n",
    "                    precip INTEGER\n",
    "                );'''\n",
    "\n",
    "AccessSql.count_rows_in_table(\"public.field_day\")"
   ]
  },
  {
   "cell_type": "code",
   "execution_count": 10,
   "id": "3b5655c4-a45e-48d2-8dbd-6eda9e02f0ab",
   "metadata": {},
   "outputs": [
    {
     "name": "stdout",
     "output_type": "stream",
     "text": [
      "DB Connected.\n"
     ]
    }
   ],
   "source": [
    "# This is how to connect to the database\n",
    "try:\n",
    "    db_connector = psycopg2.connect(database=\"agriRef\", user=\"postgres\", host=\"localhost\",\n",
    "                                 password=\"sentinel22\", port=\"5432\")\n",
    "\n",
    "    cursor = db_connector.cursor()\n",
    "    query = \"SET postgis.gdal_enabled_drivers TO 'ENABLE_ALL'\"\n",
    "    cursor.execute(query)\n",
    "\n",
    "except (Exception, psycopg2.DatabaseError) as error:\n",
    "    print(error)\n",
    "finally:\n",
    "    if db_connector is not None:\n",
    "        print(\"DB Connected.\")"
   ]
  },
  {
   "cell_type": "code",
   "execution_count": 6,
   "id": "06d5300c-05e9-4023-82d3-a73d9bdc7700",
   "metadata": {},
   "outputs": [
    {
     "name": "stdout",
     "output_type": "stream",
     "text": [
      "Field id: 352425739918, date: 2018-01-03, bbch :  None, Bsc > 50%: True, Coh > 50%: None, S2 > 50%: None, Temp mean per day: 6.6 % Celcius, Precipitation mean per day: 14.9 mm\n",
      "CPU times: user 1.03 ms, sys: 528 µs, total: 1.56 ms\n",
      "Wall time: 33.5 ms\n"
     ]
    }
   ],
   "source": [
    "%%time\n",
    "# This is how to fetch a row with a specific id and date\n",
    "row = AccessSql.fetch_row_from_db(db_connector, \"field_c\", 352425739918, \"2018-01-03\")\n",
    "\n",
    "field_id, date, size, bbch_phase, bbch_sim, bsc_data, bsc_interp_data, bsc_valid, coh_data, coh_interp_data, coh_valid, s2_data, s2_interp_data, s2_valid, temp_min, temp_max, temp_mean, precip = row\n",
    "\n",
    "print(\"Field id: \" + str(field_id) + \", date: \" + str(date) + \", bbch : \", str(bbch_phase) + \", Bsc > 50%: \" + str(bsc_valid) +\n",
    "      \", Coh > 50%: \" + str(coh_valid) + \", S2 > 50%: \" + str(s2_valid) + \", Temp mean per day: \" + str(temp_mean/10) + \" % Celcius, Precipitation mean per day: \" + str(precip/10) + \" mm\")"
   ]
  },
  {
   "cell_type": "code",
   "execution_count": null,
   "id": "208bd6f0-af69-4c24-9f41-f7cbb2233ef8",
   "metadata": {},
   "outputs": [],
   "source": [
    "%%time\n",
    "filter_bsc = True\n",
    "filter_coh = True\n",
    "filter_s2 = True\n",
    "rows = AccessSql.connect_and_filter_by_complete(filter_bsc, filter_coh, False, False)"
   ]
  },
  {
   "cell_type": "code",
   "execution_count": 11,
   "id": "fd354d27-0b07-46fa-9061-9b9bf68db9a5",
   "metadata": {},
   "outputs": [
    {
     "name": "stdout",
     "output_type": "stream",
     "text": [
      "Field id: 352425739918, date: 2018-01-10, bbch :  None, Bsc > 50%: True, Coh > 50%: True, S2 > 50%: True, Temp mean per day: 5.8 % Celcius, Precipitation mean per day: 1.0 mm\n"
     ]
    }
   ],
   "source": [
    "#This is how to fetch a row with all relevant data contained\n",
    "\n",
    "row = AccessSql.fetch_row_from_db(db_connector, \"field_c\", 352425739918, \"2018-01-10\")\n",
    "\n",
    "#print(row)\n",
    "\n",
    "field_id, date, size, bbch_phase, bbch_sim, bsc_data, bsc_interp_data, bsc_valid, coh_data, coh_interp_data, coh_valid, s2_data, s2_interp_data, s2_valid, temp_min, temp_max, temp_mean, precip = row\n",
    "\n",
    "print(\"Field id: \" + str(field_id) + \", date: \" + str(date) + \", bbch : \", str(bbch_phase) + \", Bsc > 50%: \" + str(bsc_valid) +\n",
    "      \", Coh > 50%: \" + str(coh_valid) + \", S2 > 50%: \" + str(s2_valid) + \", Temp mean per day: \" + str(temp_mean/10) + \" % Celcius, Precipitation mean per day: \" + str(precip/10) + \" mm\")"
   ]
  },
  {
   "cell_type": "code",
   "execution_count": 12,
   "id": "4eec94e0-ab22-40d7-b3ae-8c6814dae713",
   "metadata": {},
   "outputs": [
    {
     "name": "stdout",
     "output_type": "stream",
     "text": [
      "Number of bands in image: 2\n",
      "\n",
      "Image size is: 19 rows x 14 columns\n",
      "\n",
      "Raster description: (None, None)\n",
      "\n",
      "Raster driver: GTiff\n",
      "\n",
      "Image projection:\n",
      "EPSG:25832 \n",
      "\n",
      "Image geo-transform:\n",
      "| 10.00, 0.00, 427698.10|\n",
      "| 0.00,-10.00, 5589292.53|\n",
      "| 0.00, 0.00, 1.00|\n",
      "\n",
      "All raster metadata:\n",
      "{'driver': 'GTiff', 'dtype': 'float32', 'nodata': 6.905458702346266e-41, 'width': 14, 'height': 19, 'count': 2, 'crs': CRS.from_epsg(25832), 'transform': Affine(10.0, 0.0, 427698.09899809735,\n",
      "       0.0, -10.0, 5589292.534585598)}\n",
      "\n",
      "\n"
     ]
    },
    {
     "data": {
      "image/png": "[encoded data removed]",
      "text/plain": [
       "<Figure size 504x504 with 1 Axes>"
      ]
     },
     "metadata": {
      "needs_background": "light"
     },
     "output_type": "display_data"
    }
   ],
   "source": [
    "#This plots 1 band of a valid backscatter raster column entry in a row from the table and prints the metadata. \n",
    "if row and isinstance(row[5], memoryview):\n",
    "\n",
    "    # Create an in-memory file with rasterio\n",
    "    with MemoryFile(row[5].tobytes()) as memfile:\n",
    "        with memfile.open() as src:\n",
    "\n",
    "            transform = src.transform\n",
    "            amount_bands = src.count\n",
    "\n",
    "            fig, ax = plt.subplots(figsize=(7, 7))\n",
    "\n",
    "            # This is to print and compare data entered into the DB and retrieved\n",
    "            InterpolateGeotiffs.print_raster_info(src)\n",
    "\n",
    "            # Read the 2 bands\n",
    "            red = src.read(1)\n",
    "            blue = src.read(2)\n",
    "\n",
    "            # Normalize the band data to range between 0 and 1\n",
    "            band1 = InterpolateGeotiffs.normalize_band(red)\n",
    "            band2 = InterpolateGeotiffs.normalize_band(blue)\n",
    "\n",
    "            # Create an RGB image where:\n",
    "            # - Band 1 is used for both the Red and Green channels (to create a grayscale image)\n",
    "            # - Band 2 is used for the Blue channel (to overlay additional information)\n",
    "            rgb = np.dstack((band1, band1, band2))\n",
    "\n",
    "            # Plot the RGB image on the current subplot\n",
    "            ax.imshow(rgb)"
   ]
  },
  {
   "cell_type": "code",
   "execution_count": 13,
   "id": "b689c09c-e615-4369-9c67-32ba63ac82f3",
   "metadata": {},
   "outputs": [
    {
     "data": {
      "image/png": "[encoded data removed]",
      "text/plain": [
       "<Figure size 1728x432 with 4 Axes>"
      ]
     },
     "metadata": {
      "needs_background": "light"
     },
     "output_type": "display_data"
    }
   ],
   "source": [
    "if row and isinstance(row[5], memoryview) and isinstance(row[8], memoryview) and isinstance(row[11], memoryview) and isinstance(row[12], memoryview):\n",
    "\n",
    "    # Create an in-memory file with rasterio\n",
    "    with MemoryFile(row[5].tobytes()) as memfile:\n",
    "        with memfile.open() as bsc:\n",
    "            with MemoryFile(row[8].tobytes()) as memfile:\n",
    "                with memfile.open() as coh:\n",
    "                    with MemoryFile(row[11].tobytes()) as memfile:\n",
    "                        with memfile.open() as s2:\n",
    "                            with MemoryFile(row[11].tobytes()) as memfile:\n",
    "                                with memfile.open() as s2_interp:\n",
    "                                    InterpolateGeotiffs.plot_multiple_raster([bsc, coh, s2, s2_interp])"
   ]
  },
  {
   "cell_type": "code",
   "execution_count": 15,
   "id": "76e1ea6b-79e7-4e8c-aad4-b73cc69a9dc8",
   "metadata": {},
   "outputs": [
    {
     "name": "stdout",
     "output_type": "stream",
     "text": [
      "Field id: 17472362, date range: [2017-01-01,2017-12-31], crop type :  W-Raps, size in sqm: 9995\n",
      "Field id: 17472362, date range: [2016-01-01,2016-12-31], crop type :  W-Raps, size in sqm: 9995\n",
      "Field id: 18259998, date range: [2017-01-01,2017-12-31], crop type :  W-Raps, size in sqm: 49004\n",
      "Field id: 17472362, date range: [2018-01-01,2018-12-31], crop type :  W-Raps, size in sqm: 9995\n",
      "Field id: 18259998, date range: [2018-01-01,2018-12-31], crop type :  W-Raps, size in sqm: 49004\n",
      "Field id: 18259998, date range: [2016-01-01,2016-12-31], crop type :  W-Raps, size in sqm: 49004\n",
      "Field id: 18259998, date range: [2015-01-01,2015-12-31], crop type :  W-Raps, size in sqm: 49004\n",
      "Amount rows with geo location in polygon: 7\n"
     ]
    }
   ],
   "source": [
    "#This is to filter the field table by a geojson polygon.\n",
    "\n",
    "poly = \"/media/data_storage_2/jennifer/zepp_field_series_2017-2021/field_series_tests/field_filter_test.geojson\"\n",
    "\n",
    "rows = AccessSql.query_by_geojson_polygon(\"field\", \"geom\", poly, 25832)\n",
    "print(\"Amount rows with geo location in polygon: \" + str(len(rows)))"
   ]
  },
  {
   "cell_type": "code",
   "execution_count": null,
   "id": "cb11c919-9c04-4d8d-a4d9-6c5b30c05311",
   "metadata": {},
   "outputs": [],
   "source": []
  },
  {
   "cell_type": "code",
   "execution_count": null,
   "id": "ac560d94-1031-4105-93ed-b049193dd704",
   "metadata": {},
   "outputs": [],
   "source": []
  }
 ],
 "metadata": {
  "kernelspec": {
   "display_name": "env_basic",
   "language": "python",
   "name": "env_basic"
  },
  "language_info": {
   "codemirror_mode": {
    "name": "ipython",
    "version": 3
   },
   "file_extension": ".py",
   "mimetype": "text/x-python",
   "name": "python",
   "nbconvert_exporter": "python",
   "pygments_lexer": "ipython3",
   "version": "3.9.10"
  }
 },
 "nbformat": 4,
 "nbformat_minor": 5
}
